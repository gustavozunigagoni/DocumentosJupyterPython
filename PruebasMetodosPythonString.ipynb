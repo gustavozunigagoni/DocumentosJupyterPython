{
 "cells": [
  {
   "cell_type": "markdown",
   "metadata": {},
   "source": [
    "# metodos de strings"
   ]
  },
  {
   "cell_type": "markdown",
   "metadata": {},
   "source": [
    "### capitalize()"
   ]
  },
  {
   "cell_type": "markdown",
   "metadata": {},
   "source": [
    " El metodo capitalize() convierte el primer caracter de un string en mayuscula"
   ]
  },
  {
   "cell_type": "code",
   "execution_count": 2,
   "metadata": {},
   "outputs": [
    {
     "name": "stdout",
     "output_type": "stream",
     "text": [
      "esta es una prueba de string\n",
      "Esta es una prueba de string\n"
     ]
    }
   ],
   "source": [
    "mi_str = \"esta es una prueba de string\"\n",
    "print(mi_str)\n",
    "capital_str = mi_str.capitalize()\n",
    "print(capital_str)"
   ]
  },
  {
   "cell_type": "markdown",
   "metadata": {},
   "source": [
    "### center()"
   ]
  },
  {
   "cell_type": "markdown",
   "metadata": {},
   "source": [
    "El metodo center() centra un string() en una cantidad especifica de caracteres"
   ]
  },
  {
   "cell_type": "code",
   "execution_count": 5,
   "metadata": {},
   "outputs": [
    {
     "name": "stdout",
     "output_type": "stream",
     "text": [
      "texto\n",
      "       texto        \n"
     ]
    }
   ],
   "source": [
    "mi_str = \"texto\"\n",
    "print(mi_str)\n",
    "center_str = mi_str.center(20)\n",
    "print(center_str)"
   ]
  },
  {
   "cell_type": "markdown",
   "metadata": {},
   "source": [
    "### casefold ()"
   ]
  },
  {
   "cell_type": "markdown",
   "metadata": {},
   "source": [
    "El método casefold () elimina todas las distinciones de casos presentes en una cadena. Se utiliza para la coincidencia sin casillas, es decir, ignora los casos cuando se compara"
   ]
  },
  {
   "cell_type": "code",
   "execution_count": 6,
   "metadata": {},
   "outputs": [
    {
     "name": "stdout",
     "output_type": "stream",
     "text": [
      "ESTE ES UN TEXTO\n",
      "este es un texto\n"
     ]
    }
   ],
   "source": [
    "mi_str = \"ESTE ES UN TEXTO\"\n",
    "print(mi_str)\n",
    "casefold_str = mi_str.casefold()\n",
    "print(casefold_str)"
   ]
  },
  {
   "cell_type": "markdown",
   "metadata": {},
   "source": [
    "### count ()"
   ]
  },
  {
   "cell_type": "markdown",
   "metadata": {},
   "source": [
    "En palabras simples, el método count () busca la subcadena en la cadena dada y devuelve cuántas veces la subcadena está presente en ella."
   ]
  },
  {
   "cell_type": "code",
   "execution_count": 9,
   "metadata": {},
   "outputs": [
    {
     "name": "stdout",
     "output_type": "stream",
     "text": [
      "esta es una prueba de string\n",
      "3\n"
     ]
    }
   ],
   "source": [
    "mi_str = \"esta es una prueba de string\"\n",
    "print(mi_str)\n",
    "mi_substr = \"a\"\n",
    "count_int = mi_str.count(mi_substr)\n",
    "print(count_int)"
   ]
  },
  {
   "cell_type": "markdown",
   "metadata": {},
   "source": [
    "### endswith ()"
   ]
  },
  {
   "cell_type": "markdown",
   "metadata": {},
   "source": [
    "El método endswith () devuelve True si una cadena finaliza con el sufijo especificado. Si no, devuelve False."
   ]
  },
  {
   "cell_type": "code",
   "execution_count": 16,
   "metadata": {
    "scrolled": true
   },
   "outputs": [
    {
     "name": "stdout",
     "output_type": "stream",
     "text": [
      "False\n",
      "True\n",
      "False\n",
      "True\n"
     ]
    }
   ],
   "source": [
    "mi_str = \"esta es una prueba de string.\"\n",
    "resultado = mi_str.endswith('string')\n",
    "print(resultado)\n",
    "resultado = mi_str.endswith('string.')\n",
    "print(resultado)\n",
    "resultado = mi_str.endswith('string.',10,12)\n",
    "print(resultado)\n",
    "resultado = mi_str.endswith('esta',0,4)\n",
    "print(resultado)\n"
   ]
  },
  {
   "cell_type": "markdown",
   "metadata": {},
   "source": [
    "### expandtabs ()"
   ]
  },
  {
   "cell_type": "markdown",
   "metadata": {},
   "source": [
    "El método expandtabs () devuelve una copia de cadena con todos los caracteres de tabulación '\\ t' reemplazados con caracteres de espacio en blanco hasta el siguiente múltiplo del parámetro de tamaño de tabulación."
   ]
  },
  {
   "cell_type": "code",
   "execution_count": 21,
   "metadata": {},
   "outputs": [
    {
     "name": "stdout",
     "output_type": "stream",
     "text": [
      "xyz\t12345\tabc\n",
      "xyz     12345   abc\n"
     ]
    }
   ],
   "source": [
    "mi_str = 'xyz\\t12345\\tabc'\n",
    "print(mi_str)\n",
    "resultado = mi_str.expandtabs()\n",
    "print(resultado)"
   ]
  },
  {
   "cell_type": "markdown",
   "metadata": {},
   "source": [
    "### encode ()"
   ]
  },
  {
   "cell_type": "markdown",
   "metadata": {},
   "source": [
    "El método string encode () devuelve la versión codificada de la cadena dada."
   ]
  },
  {
   "cell_type": "code",
   "execution_count": 25,
   "metadata": {
    "scrolled": false
   },
   "outputs": [
    {
     "name": "stdout",
     "output_type": "stream",
     "text": [
      "pythön!\n",
      "b'pyth\\xc3\\xb6n!'\n",
      "b'pythn!'\n",
      "b'pyth?n!'\n"
     ]
    }
   ],
   "source": [
    "#string unicode\n",
    "mi_str = \"pythön!\"\n",
    "print(mi_str)\n",
    "\n",
    "#default unicode a utf-8\n",
    "resultado = mi_str.encode()\n",
    "print(resultado)\n",
    "\n",
    "#ignorar error\n",
    "resultado = mi_str.encode(\"ascii\",\"ignore\")\n",
    "print(resultado)\n",
    "\n",
    "#remplazar error\n",
    "resultado = mi_str.encode(\"ascii\",\"replace\")\n",
    "print(resultado)"
   ]
  },
  {
   "cell_type": "markdown",
   "metadata": {},
   "source": [
    "## find()"
   ]
  },
  {
   "cell_type": "markdown",
   "metadata": {},
   "source": [
    "El método find () devuelve el índice más bajo de la subcadena (si se encuentra). Si no se encuentra, devuelve -1."
   ]
  },
  {
   "cell_type": "code",
   "execution_count": 3,
   "metadata": {},
   "outputs": [
    {
     "name": "stdout",
     "output_type": "stream",
     "text": [
      "La subcadena se encuentra en:12\n",
      "La subcadena se encuentra en:-1\n"
     ]
    }
   ],
   "source": [
    "mi_str = \"Esta es una cadena de pruebas\"\n",
    "result = mi_str.find('cadena')\n",
    "print(\"La subcadena se encuentra en:{}\".format(result))\n",
    "\n",
    "#prueba de no enconrar la subcadena\n",
    "\n",
    "result = mi_str.find('casa')\n",
    "\n",
    "print(\"La subcadena se encuentra en:{}\".format(result))\n"
   ]
  },
  {
   "cell_type": "markdown",
   "metadata": {},
   "source": [
    "## format()"
   ]
  },
  {
   "cell_type": "markdown",
   "metadata": {},
   "source": [
    "El método string format () formatea la cadena dada en un resultado más agradable en Python."
   ]
  },
  {
   "cell_type": "code",
   "execution_count": 8,
   "metadata": {},
   "outputs": [
    {
     "name": "stdout",
     "output_type": "stream",
     "text": [
      "Hola Carlos, tu numero de celular es 22334455\n",
      "Hola Carlos, tu numero de celular es 22334455\n",
      "Hola Carlos, tu numero de celular es 22334455\n",
      "Hola Carlos, tu numero de celular es 22334455\n"
     ]
    }
   ],
   "source": [
    "#argumentos default\n",
    "print(\"Hola {}, tu numero de celular es {}\".format(\"Carlos\",22334455))\n",
    "\n",
    "#definidos por la posicion de los argumento\n",
    "print(\"Hola {0}, tu numero de celular es {1}\".format(\"Carlos\",22334455))\n",
    "\n",
    "#definidos por llaves de valor\n",
    "print(\"Hola {nombre}, tu numero de celular es {celular}\".format(nombre=\"Carlos\",celular=22334455))\n",
    "\n",
    "#definidos por argumentos mixtos\n",
    "print(\"Hola {0}, tu numero de celular es {celular}\".format(\"Carlos\",celular=22334455))\n",
    "\n",
    "\n",
    "\n"
   ]
  },
  {
   "cell_type": "markdown",
   "metadata": {},
   "source": [
    "## index"
   ]
  },
  {
   "cell_type": "markdown",
   "metadata": {},
   "source": [
    "El método index () devuelve el índice de una subcadena dentro de la cadena (si se encuentra). Si no se encuentra la subcadena, se genera una excepción. Se diferencia del find() ya que el index al no encontrsar la subcadena genera una \n",
    "excepcion. \n"
   ]
  },
  {
   "cell_type": "code",
   "execution_count": 10,
   "metadata": {},
   "outputs": [
    {
     "name": "stdout",
     "output_type": "stream",
     "text": [
      "La subcadena se encuentra en:12\n"
     ]
    },
    {
     "ename": "ValueError",
     "evalue": "substring not found",
     "output_type": "error",
     "traceback": [
      "\u001b[0;31m---------------------------------------------------------------------------\u001b[0m",
      "\u001b[0;31mValueError\u001b[0m                                Traceback (most recent call last)",
      "\u001b[0;32m<ipython-input-10-080936f61cfa>\u001b[0m in \u001b[0;36m<module>\u001b[0;34m()\u001b[0m\n\u001b[1;32m      6\u001b[0m \u001b[0;31m#prueba de no enconrar la subcadena\u001b[0m\u001b[0;34m\u001b[0m\u001b[0;34m\u001b[0m\u001b[0m\n\u001b[1;32m      7\u001b[0m \u001b[0;34m\u001b[0m\u001b[0m\n\u001b[0;32m----> 8\u001b[0;31m \u001b[0mresult\u001b[0m \u001b[0;34m=\u001b[0m \u001b[0mmi_str\u001b[0m\u001b[0;34m.\u001b[0m\u001b[0mindex\u001b[0m\u001b[0;34m(\u001b[0m\u001b[0;34m'casa'\u001b[0m\u001b[0;34m)\u001b[0m\u001b[0;34m\u001b[0m\u001b[0m\n\u001b[0m\u001b[1;32m      9\u001b[0m \u001b[0;34m\u001b[0m\u001b[0m\n\u001b[1;32m     10\u001b[0m \u001b[0mprint\u001b[0m\u001b[0;34m(\u001b[0m\u001b[0;34m\"La subcadena se encuentra en:{}\"\u001b[0m\u001b[0;34m.\u001b[0m\u001b[0mformat\u001b[0m\u001b[0;34m(\u001b[0m\u001b[0mresult\u001b[0m\u001b[0;34m)\u001b[0m\u001b[0;34m)\u001b[0m\u001b[0;34m\u001b[0m\u001b[0m\n",
      "\u001b[0;31mValueError\u001b[0m: substring not found"
     ]
    }
   ],
   "source": [
    "mi_str = \"Esta es una cadena de pruebas\"\n",
    "\n",
    "result = mi_str.index('cadena')\n",
    "print(\"La subcadena se encuentra en:{}\".format(result))\n",
    "\n",
    "#prueba de no enconrar la subcadena y genera una excepcion\n",
    "\n",
    "result = mi_str.index('casa')\n",
    "\n",
    "print(\"La subcadena se encuentra en:{}\".format(result))\n"
   ]
  },
  {
   "cell_type": "markdown",
   "metadata": {},
   "source": [
    "## isalnum()"
   ]
  },
  {
   "cell_type": "markdown",
   "metadata": {},
   "source": [
    "El método isalnum () devuelve True si todos los caracteres de la cadena son alfanuméricos (alfabetos o números). Si no, devuelve False."
   ]
  },
  {
   "cell_type": "code",
   "execution_count": 15,
   "metadata": {},
   "outputs": [
    {
     "name": "stdout",
     "output_type": "stream",
     "text": [
      "El resultado es alfanumerico: True\n",
      "El resultado es alfanumerico: False\n"
     ]
    }
   ],
   "source": [
    "mi_str = \"a1b2c3d4e5f7g8h9i\"\n",
    "\n",
    "result = mi_str.isalnum()\n",
    "print(\"El resultado es alfanumerico: {}\".format(result))\n",
    "\n",
    "#valida que el string siguiente tiene otros caracteres ademas de alfabetos y números\n",
    "\n",
    "mi_str = \"a1b2c3d4e5f7g8h9i___===+++\"\n",
    "\n",
    "result = mi_str.isalnum()\n",
    "print(\"El resultado es alfanumerico: {}\".format(result))"
   ]
  },
  {
   "cell_type": "markdown",
   "metadata": {},
   "source": [
    "## isalpha()"
   ]
  },
  {
   "cell_type": "markdown",
   "metadata": {},
   "source": [
    "El método isalpha () devuelve True si todos los caracteres de la cadena son alfabetos. Si no, devuelve False."
   ]
  },
  {
   "cell_type": "code",
   "execution_count": 16,
   "metadata": {},
   "outputs": [
    {
     "name": "stdout",
     "output_type": "stream",
     "text": [
      "El resultado es alfanumerico: True\n",
      "El resultado es alfanumerico: False\n"
     ]
    }
   ],
   "source": [
    "mi_str = \"abcdefghijkABCDEFGHIJK\"\n",
    "\n",
    "result = mi_str.isalpha()\n",
    "print(\"El resultado es alfabetico: {}\".format(result))\n",
    "\n",
    "#valida que el string siguiente tiene otros caracteres ademas de alfabetos y números\n",
    "\n",
    "mi_str = \"abcde12345fghijk\"\n",
    "\n",
    "result = mi_str.isalpha()\n",
    "print(\"El resultado es alfabetico: {}\".format(result))"
   ]
  },
  {
   "cell_type": "markdown",
   "metadata": {},
   "source": [
    "## isdecimal()"
   ]
  },
  {
   "cell_type": "markdown",
   "metadata": {},
   "source": [
    "The isdecimal() method returns True if all characters in a string are decimal characters. If not, it returns False."
   ]
  },
  {
   "cell_type": "code",
   "execution_count": 20,
   "metadata": {},
   "outputs": [
    {
     "name": "stdout",
     "output_type": "stream",
     "text": [
      "El resultado es decimal: True\n",
      "El resultado es decimal: False\n"
     ]
    }
   ],
   "source": [
    "mi_str = \"1234567890\"\n",
    "\n",
    "result = mi_str.isdecimal()\n",
    "print(\"El resultado es decimal: {}\".format(result))\n",
    "\n",
    "#valida que el string siguiente tiene otros caracteres ademas de adecimales\n",
    "\n",
    "mi_str = \"abcde12345fghijk\"\n",
    "\n",
    "result = mi_str.isdecimal()\n",
    "print(\"El resultado es decimal: {}\".format(result))"
   ]
  },
  {
   "cell_type": "markdown",
   "metadata": {},
   "source": [
    "## isdigit()"
   ]
  },
  {
   "cell_type": "markdown",
   "metadata": {},
   "source": [
    "El método isdigit () devuelve True si todos los caracteres de una cadena son dígitos. Si no, devuelve False."
   ]
  },
  {
   "cell_type": "code",
   "execution_count": 21,
   "metadata": {},
   "outputs": [
    {
     "name": "stdout",
     "output_type": "stream",
     "text": [
      "El resultado es decimal: True\n",
      "El resultado es decimal: False\n"
     ]
    }
   ],
   "source": [
    "mi_str = \"1234567890\"\n",
    "\n",
    "result = mi_str.isdigit()\n",
    "print(\"El resultado son digitos: {}\".format(result))\n",
    "\n",
    "#valida que el string siguiente tiene otros caracteres ademas de digitos\n",
    "\n",
    "mi_str = \"abcde12345fghijk\"\n",
    "\n",
    "result = mi_str.isdigit()\n",
    "print(\"El resultado es decimal: {}\".format(result))"
   ]
  },
  {
   "cell_type": "markdown",
   "metadata": {},
   "source": [
    "## isidentifier()"
   ]
  },
  {
   "cell_type": "markdown",
   "metadata": {},
   "source": [
    "El método isidentifier () devuelve True si la cadena es un identificador válido en Python. Si no, devuelve False."
   ]
  },
  {
   "cell_type": "code",
   "execution_count": 24,
   "metadata": {},
   "outputs": [
    {
     "name": "stdout",
     "output_type": "stream",
     "text": [
      "Es un identificados valido: True\n",
      "Es un identificados valido: False\n"
     ]
    }
   ],
   "source": [
    "mi_str = \"Python\"\n",
    "\n",
    "result = mi_str.isidentifier()\n",
    "print(\"Es un identificados valido: {}\".format(result))\n",
    "\n",
    "#la cadena no es un identificador de python\n",
    "\n",
    "mi_str = \"Py  thon\"\n",
    "\n",
    "result = mi_str.isidentifier()\n",
    "print(\"Es un identificados valido: {}\".format(result))"
   ]
  },
  {
   "cell_type": "markdown",
   "metadata": {},
   "source": [
    "## islower()"
   ]
  },
  {
   "cell_type": "markdown",
   "metadata": {},
   "source": [
    "El método islower () devuelve True si todos los alfabetos en una cadena son letras minúsculas. Si la cadena contiene al menos un alfabeto en mayúscula, devuelve False."
   ]
  },
  {
   "cell_type": "code",
   "execution_count": 29,
   "metadata": {},
   "outputs": [
    {
     "name": "stdout",
     "output_type": "stream",
     "text": [
      "La cadena solo tiene albabotos minuscula: True\n",
      "La cadena solo tiene albabotos minuscula: False\n"
     ]
    }
   ],
   "source": [
    "mi_str = \"esta es una cadena de pruebas\"\n",
    "\n",
    "result = mi_str.islower()\n",
    "print(\"La cadena solo tiene albabotos minuscula: {}\".format(result))\n",
    "\n",
    "#cadena con alfabotos mayuscular\n",
    "\n",
    "mi_str = \"Esta es una cadena de pruebas\"\n",
    "\n",
    "result = mi_str.islower()\n",
    "print(\"La cadena solo tiene albabotos minuscula: {}\".format(result))\n",
    "\n",
    "\n"
   ]
  },
  {
   "cell_type": "markdown",
   "metadata": {},
   "source": [
    "## isnumeric()"
   ]
  },
  {
   "cell_type": "markdown",
   "metadata": {},
   "source": [
    "El método isnumeric () devuelve True si todos los caracteres en una cadena son caracteres numéricos. Si no, devuelve False."
   ]
  },
  {
   "cell_type": "code",
   "execution_count": 34,
   "metadata": {},
   "outputs": [
    {
     "name": "stdout",
     "output_type": "stream",
     "text": [
      "La cadena es numerica: True\n",
      "La cadena es numerica: True\n",
      "La cadena es numerica: True\n",
      "La cadena es numerica: False\n"
     ]
    }
   ],
   "source": [
    "mi_str = \"1234567890\"\n",
    "\n",
    "result = mi_str.isnumeric()\n",
    "print(\"La cadena es numerica: {}\".format(result))\n",
    "\n",
    "#mi_str = '²3455'\n",
    "\n",
    "mi_str = \"\\u00B23455\"\n",
    "\n",
    "result = mi_str.isnumeric()\n",
    "print(\"La cadena es numerica: {}\".format(result))\n",
    "\n",
    "# s = '½'\n",
    "mi_str = \"\\u00BD\"\n",
    "\n",
    "result = mi_str.isnumeric()\n",
    "print(\"La cadena es numerica: {}\".format(result))\n",
    "\n",
    "mi_str = \"python\"\n",
    "\n",
    "result = mi_str.isnumeric()\n",
    "print(\"La cadena es numerica: {}\".format(result))\n",
    "\n"
   ]
  },
  {
   "cell_type": "markdown",
   "metadata": {},
   "source": [
    "## isprintable()"
   ]
  },
  {
   "cell_type": "markdown",
   "metadata": {},
   "source": [
    "Los métodos isprintable () devuelven True si todos los caracteres de la cadena son imprimibles o la cadena está vacía. Si no, devuelve False."
   ]
  },
  {
   "cell_type": "code",
   "execution_count": 37,
   "metadata": {},
   "outputs": [
    {
     "name": "stdout",
     "output_type": "stream",
     "text": [
      "La linea es imprimible: True\n",
      "La linea es imprimible: False\n"
     ]
    }
   ],
   "source": [
    "mi_str = \"Esta linea es imprimible\"\n",
    "\n",
    "result = mi_str.isprintable()\n",
    "print(\"La linea es imprimible: {}\".format(result))\n",
    "\n",
    "#linea con un caracter no imprimible\n",
    "\n",
    "mi_str = \"\\n Esta linea es imprimible\"\n",
    "\n",
    "result = mi_str.isprintable()\n",
    "print(\"La linea es imprimible: {}\".format(result))\n",
    "\n"
   ]
  },
  {
   "cell_type": "markdown",
   "metadata": {},
   "source": [
    "## isspace()"
   ]
  },
  {
   "cell_type": "markdown",
   "metadata": {},
   "source": [
    "El método isspace () devuelve True si solo hay caracteres en blanco en la cadena. Si no, devuelve False."
   ]
  },
  {
   "cell_type": "code",
   "execution_count": 38,
   "metadata": {},
   "outputs": [
    {
     "name": "stdout",
     "output_type": "stream",
     "text": [
      "La linea solo tiene espacios en blanco: True\n",
      "La linea solo tiene espacios en blanco: False\n"
     ]
    }
   ],
   "source": [
    "mi_str = \"          \"\n",
    "\n",
    "result = mi_str.isspace()\n",
    "print(\"La linea solo tiene espacios en blanco: {}\".format(result))\n",
    "\n",
    "mi_str = \"\\n Esta linea es imprimible\"\n",
    "\n",
    "result = mi_str.isspace()\n",
    "print(\"La linea solo tiene espacios en blanco: {}\".format(result))"
   ]
  },
  {
   "cell_type": "markdown",
   "metadata": {},
   "source": [
    "## istitle()"
   ]
  },
  {
   "cell_type": "markdown",
   "metadata": {},
   "source": [
    "El istitle () devuelve True si la cadena es una cadena catalogada. Si no, devuelve False."
   ]
  },
  {
   "cell_type": "code",
   "execution_count": 39,
   "metadata": {},
   "outputs": [
    {
     "name": "stdout",
     "output_type": "stream",
     "text": [
      "La linea es una cadena catalogada:: True\n",
      "La linea es una cadena catalogada:: False\n"
     ]
    }
   ],
   "source": [
    "mi_str = \"Esta Es Una Cadena De Prueba\"\n",
    "\n",
    "result = mi_str.istitle()\n",
    "print(\"La linea es una cadena catalogada:: {}\".format(result))\n",
    "\n",
    "mi_str = \"Esta es una linea de prueba\"\n",
    "\n",
    "result = mi_str.istitle()\n",
    "print(\"La linea es una cadena catalogada:: {}\".format(result))"
   ]
  },
  {
   "cell_type": "code",
   "execution_count": null,
   "metadata": {},
   "outputs": [],
   "source": []
  }
 ],
 "metadata": {
  "kernelspec": {
   "display_name": "Python 3",
   "language": "python",
   "name": "python3"
  },
  "language_info": {
   "codemirror_mode": {
    "name": "ipython",
    "version": 3
   },
   "file_extension": ".py",
   "mimetype": "text/x-python",
   "name": "python",
   "nbconvert_exporter": "python",
   "pygments_lexer": "ipython3",
   "version": "3.6.5"
  }
 },
 "nbformat": 4,
 "nbformat_minor": 2
}
