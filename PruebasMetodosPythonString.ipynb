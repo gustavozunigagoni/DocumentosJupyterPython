{
 "cells": [
  {
   "cell_type": "markdown",
   "metadata": {},
   "source": [
    "# metodos de strings"
   ]
  },
  {
   "cell_type": "code",
   "execution_count": null,
   "metadata": {},
   "outputs": [],
   "source": [
    "A continuación se detallan el uso y ejemplos de los diferentes métodos utilizados para el manejo de strings."
   ]
  },
  {
   "cell_type": "markdown",
   "metadata": {},
   "source": [
    "### capitalize()"
   ]
  },
  {
   "cell_type": "markdown",
   "metadata": {},
   "source": [
    " El metodo capitalize() convierte el primer caracter de un string en mayuscula"
   ]
  },
  {
   "cell_type": "code",
   "execution_count": 2,
   "metadata": {},
   "outputs": [
    {
     "name": "stdout",
     "output_type": "stream",
     "text": [
      "esta es una prueba de string\n",
      "Esta es una prueba de string\n"
     ]
    }
   ],
   "source": [
    "mi_str = \"esta es una prueba de string\"\n",
    "print(mi_str)\n",
    "capital_str = mi_str.capitalize()\n",
    "print(capital_str)"
   ]
  },
  {
   "cell_type": "markdown",
   "metadata": {},
   "source": [
    "### center()"
   ]
  },
  {
   "cell_type": "markdown",
   "metadata": {},
   "source": [
    "El metodo center() centra un string() en una cantidad especifica de caracteres"
   ]
  },
  {
   "cell_type": "code",
   "execution_count": 5,
   "metadata": {},
   "outputs": [
    {
     "name": "stdout",
     "output_type": "stream",
     "text": [
      "texto\n",
      "       texto        \n"
     ]
    }
   ],
   "source": [
    "mi_str = \"texto\"\n",
    "print(mi_str)\n",
    "center_str = mi_str.center(20)\n",
    "print(center_str)"
   ]
  },
  {
   "cell_type": "markdown",
   "metadata": {},
   "source": [
    "### casefold ()"
   ]
  },
  {
   "cell_type": "markdown",
   "metadata": {},
   "source": [
    "El método casefold () elimina todas las distinciones de casos presentes en una cadena. Se utiliza para la coincidencia sin casillas, es decir, ignora los casos cuando se compara"
   ]
  },
  {
   "cell_type": "code",
   "execution_count": 6,
   "metadata": {},
   "outputs": [
    {
     "name": "stdout",
     "output_type": "stream",
     "text": [
      "ESTE ES UN TEXTO\n",
      "este es un texto\n"
     ]
    }
   ],
   "source": [
    "mi_str = \"ESTE ES UN TEXTO\"\n",
    "print(mi_str)\n",
    "casefold_str = mi_str.casefold()\n",
    "print(casefold_str)"
   ]
  },
  {
   "cell_type": "markdown",
   "metadata": {},
   "source": [
    "### count ()"
   ]
  },
  {
   "cell_type": "markdown",
   "metadata": {},
   "source": [
    "En palabras simples, el método count () busca la subcadena en la cadena dada y devuelve cuántas veces la subcadena está presente en ella."
   ]
  },
  {
   "cell_type": "code",
   "execution_count": 9,
   "metadata": {},
   "outputs": [
    {
     "name": "stdout",
     "output_type": "stream",
     "text": [
      "esta es una prueba de string\n",
      "3\n"
     ]
    }
   ],
   "source": [
    "mi_str = \"esta es una prueba de string\"\n",
    "print(mi_str)\n",
    "mi_substr = \"a\"\n",
    "count_int = mi_str.count(mi_substr)\n",
    "print(count_int)"
   ]
  },
  {
   "cell_type": "markdown",
   "metadata": {},
   "source": [
    "### endswith ()"
   ]
  },
  {
   "cell_type": "markdown",
   "metadata": {},
   "source": [
    "El método endswith () devuelve True si una cadena finaliza con el sufijo especificado. Si no, devuelve False."
   ]
  },
  {
   "cell_type": "code",
   "execution_count": 16,
   "metadata": {
    "scrolled": true
   },
   "outputs": [
    {
     "name": "stdout",
     "output_type": "stream",
     "text": [
      "False\n",
      "True\n",
      "False\n",
      "True\n"
     ]
    }
   ],
   "source": [
    "mi_str = \"esta es una prueba de string.\"\n",
    "resultado = mi_str.endswith('string')\n",
    "print(resultado)\n",
    "resultado = mi_str.endswith('string.')\n",
    "print(resultado)\n",
    "resultado = mi_str.endswith('string.',10,12)\n",
    "print(resultado)\n",
    "resultado = mi_str.endswith('esta',0,4)\n",
    "print(resultado)\n"
   ]
  },
  {
   "cell_type": "markdown",
   "metadata": {},
   "source": [
    "### expandtabs ()"
   ]
  },
  {
   "cell_type": "markdown",
   "metadata": {},
   "source": [
    "El método expandtabs () devuelve una copia de cadena con todos los caracteres de tabulación '\\ t' reemplazados con caracteres de espacio en blanco hasta el siguiente múltiplo del parámetro de tamaño de tabulación."
   ]
  },
  {
   "cell_type": "code",
   "execution_count": 21,
   "metadata": {},
   "outputs": [
    {
     "name": "stdout",
     "output_type": "stream",
     "text": [
      "xyz\t12345\tabc\n",
      "xyz     12345   abc\n"
     ]
    }
   ],
   "source": [
    "mi_str = 'xyz\\t12345\\tabc'\n",
    "print(mi_str)\n",
    "resultado = mi_str.expandtabs()\n",
    "print(resultado)"
   ]
  },
  {
   "cell_type": "markdown",
   "metadata": {},
   "source": [
    "### encode ()"
   ]
  },
  {
   "cell_type": "markdown",
   "metadata": {},
   "source": [
    "El método string encode () devuelve la versión codificada de la cadena dada."
   ]
  },
  {
   "cell_type": "code",
   "execution_count": 25,
   "metadata": {
    "scrolled": true
   },
   "outputs": [
    {
     "name": "stdout",
     "output_type": "stream",
     "text": [
      "pythön!\n",
      "b'pyth\\xc3\\xb6n!'\n",
      "b'pythn!'\n",
      "b'pyth?n!'\n"
     ]
    }
   ],
   "source": [
    "#string unicode\n",
    "mi_str = \"pythön!\"\n",
    "print(mi_str)\n",
    "\n",
    "#default unicode a utf-8\n",
    "resultado = mi_str.encode()\n",
    "print(resultado)\n",
    "\n",
    "#ignorar error\n",
    "resultado = mi_str.encode(\"ascii\",\"ignore\")\n",
    "print(resultado)\n",
    "\n",
    "#remplazar error\n",
    "resultado = mi_str.encode(\"ascii\",\"replace\")\n",
    "print(resultado)"
   ]
  },
  {
   "cell_type": "code",
   "execution_count": null,
   "metadata": {},
   "outputs": [],
   "source": []
  }
 ],
 "metadata": {
  "kernelspec": {
   "display_name": "Python 3",
   "language": "python",
   "name": "python3"
  },
  "language_info": {
   "codemirror_mode": {
    "name": "ipython",
    "version": 3
   },
   "file_extension": ".py",
   "mimetype": "text/x-python",
   "name": "python",
   "nbconvert_exporter": "python",
   "pygments_lexer": "ipython3",
   "version": "3.6.5"
  }
 },
 "nbformat": 4,
 "nbformat_minor": 2
}
